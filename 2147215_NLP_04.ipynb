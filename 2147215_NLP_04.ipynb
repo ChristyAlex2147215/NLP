{
  "nbformat": 4,
  "nbformat_minor": 0,
  "metadata": {
    "colab": {
      "name": "2147215_NLP_04.ipynb",
      "provenance": [],
      "include_colab_link": true
    },
    "kernelspec": {
      "name": "python3",
      "display_name": "Python 3"
    },
    "language_info": {
      "name": "python"
    }
  },
  "cells": [
    {
      "cell_type": "markdown",
      "metadata": {
        "id": "view-in-github",
        "colab_type": "text"
      },
      "source": [
        "<a href=\"https://colab.research.google.com/github/ChristyAlex2147215/NLP/blob/main/2147215_NLP_04.ipynb\" target=\"_parent\"><img src=\"https://colab.research.google.com/assets/colab-badge.svg\" alt=\"Open In Colab\"/></a>"
      ]
    },
    {
      "cell_type": "markdown",
      "source": [
        "#Imporing the libraries"
      ],
      "metadata": {
        "id": "FLq0jDWhH2Og"
      }
    },
    {
      "cell_type": "code",
      "source": [
        "import nltk\n",
        "import pandas as pd\n",
        "import numpy as np"
      ],
      "metadata": {
        "id": "ZtNc_F3jBxxi"
      },
      "execution_count": null,
      "outputs": []
    },
    {
      "cell_type": "code",
      "execution_count": null,
      "metadata": {
        "colab": {
          "base_uri": "https://localhost:8080/"
        },
        "id": "Z-wkWTdv_KWJ",
        "outputId": "dcfd55ce-ff50-4fe3-c6cf-3ebe4c3408a5"
      },
      "outputs": [
        {
          "output_type": "stream",
          "name": "stderr",
          "text": [
            "[nltk_data] Downloading package wordnet to /root/nltk_data...\n",
            "[nltk_data] Downloading package omw-1.4 to /root/nltk_data...\n"
          ]
        },
        {
          "output_type": "execute_result",
          "data": {
            "text/plain": [
              "True"
            ]
          },
          "metadata": {},
          "execution_count": 3
        }
      ],
      "source": [
        "import nltk\n",
        "nltk.download('wordnet')\n",
        "nltk.download('omw-1.4')"
      ]
    },
    {
      "cell_type": "markdown",
      "source": [
        "#Gettig the word and meaning "
      ],
      "metadata": {
        "id": "8pXjZa9CH9rM"
      }
    },
    {
      "cell_type": "markdown",
      "source": [
        "WordNET is a lexical database of semantic relations between words in more than 200 languages. In the field of natural language processing, there are a variety of tasks such as automatic text classification, sentiment analysis, text summarization,\n",
        "**Lemma** -root form of the word\n",
        "**WordNet** is the lexical database i.e. dictionary for the English language, specifically designed for natural language processing. \n",
        "\n",
        "**Synset** is a special kind of a simple interface that is present in NLTK to look up words in WordNet. Synset instances are the groupings of synonymous words that express the same concept. Some of the words have only one Synset and some have several. "
      ],
      "metadata": {
        "id": "QCtcB9rNK1Bo"
      }
    },
    {
      "cell_type": "code",
      "source": [
        "from nltk.corpus import wordnet   #Import wordnet from the NLTK\n",
        "synset = wordnet.synsets(\"Football\")\n",
        "print('Word and Type : ' + synset[0].name())\n",
        "print('Synonym of Football is: ' + synset[0].lemmas()[0].name())\n",
        "print('The meaning of the word : ' + synset[0].definition())\n",
        "print('Example of Football : ' + str(synset[0].examples()))"
      ],
      "metadata": {
        "colab": {
          "base_uri": "https://localhost:8080/"
        },
        "id": "QV11Zr8b_cA4",
        "outputId": "bd9f88c9-f189-44e8-bf55-cb13e8fc5a55"
      },
      "execution_count": null,
      "outputs": [
        {
          "output_type": "stream",
          "name": "stdout",
          "text": [
            "Word and Type : football.n.01\n",
            "Synonym of Football is: football\n",
            "The meaning of the word : any of various games played with a ball (round or oval) in which two teams try to kick or carry or propel the ball into each other's goal\n",
            "Example of Football : []\n"
          ]
        }
      ]
    },
    {
      "cell_type": "code",
      "source": [
        "synset = wordnet.synsets(\"cool\")\n",
        "print('Word and Type : ' + synset[0].name())\n",
        "print('Synonym of cool is: ' + synset[0].lemmas()[0].name())\n",
        "print('The meaning of the word : ' + synset[0].definition())\n",
        "print('Example of cool : ' + str(synset[0].examples()))"
      ],
      "metadata": {
        "id": "qm5lWV2wMTGq",
        "colab": {
          "base_uri": "https://localhost:8080/"
        },
        "outputId": "db9a01f7-229d-4af8-ce19-9a125343c57a"
      },
      "execution_count": null,
      "outputs": [
        {
          "output_type": "stream",
          "name": "stdout",
          "text": [
            "Word and Type : cool.n.01\n",
            "Synonym of cricket is: cool\n",
            "The meaning of the word : the quality of being at a refreshingly low temperature\n",
            "Example of cricket : ['the cool of early morning']\n"
          ]
        }
      ]
    },
    {
      "cell_type": "markdown",
      "source": [
        "#Synonyms and Antonyms \n",
        " of the words "
      ],
      "metadata": {
        "id": "vMHoNJSMHrl_"
      }
    },
    {
      "cell_type": "code",
      "source": [
        "import nltk\n",
        "from nltk.corpus import wordnet   #Import wordnet from the NLTK\n",
        "syn = list()\n",
        "ant = list()\n",
        "for synset in wordnet.synsets(\"down\"):\n",
        "   for lemma in synset.lemmas():\n",
        "      syn.append(lemma.name())    #add the synonyms\n",
        "      if lemma.antonyms():    #When antonyms are available, add them into the list\n",
        "        ant.append(lemma.antonyms()[0].name())\n",
        "print('Synonyms: ' + str(syn))\n",
        "print('Antonyms: ' + str(ant))"
      ],
      "metadata": {
        "colab": {
          "base_uri": "https://localhost:8080/"
        },
        "id": "P1T8_XSSHZH6",
        "outputId": "b1b9c80c-0f2d-4884-c079-40ea970f7910"
      },
      "execution_count": null,
      "outputs": [
        {
          "output_type": "stream",
          "name": "stdout",
          "text": [
            "Synonyms: ['down', 'down_feather', 'down', 'Down', 'John_L._H._Down', 'down', 'down', 'pile', 'toss_off', 'pop', 'bolt_down', 'belt_down', 'pour_down', 'down', 'drink_down', 'kill', 'devour', 'down', 'consume', 'go_through', 'down', 'down', 'shoot_down', 'land', 'down', 'knock_down', 'cut_down', 'push_down', 'pull_down', 'polish', 'refine', 'fine-tune', 'down', 'down', 'down', 'downward', 'down', 'down', 'down', 'down_pat', 'mastered', 'depressed', 'down', 'down', 'down', 'gloomy', 'grim', 'blue', 'depressed', 'dispirited', 'down', 'downcast', 'downhearted', 'down_in_the_mouth', 'low', 'low-spirited', 'down', 'downwards', 'downward', 'downwardly', 'down', 'down', 'down', 'down', 'down']\n",
            "Antonyms: ['up', 'up', 'upwards', 'upward', 'upwardly', 'up', 'up']\n"
          ]
        }
      ]
    }
  ]
}
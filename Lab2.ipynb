{
  "nbformat": 4,
  "nbformat_minor": 0,
  "metadata": {
    "colab": {
      "name": "Lab2.ipynb",
      "provenance": [],
      "include_colab_link": true
    },
    "kernelspec": {
      "name": "python3",
      "display_name": "Python 3"
    },
    "language_info": {
      "name": "python"
    }
  },
  "cells": [
    {
      "cell_type": "markdown",
      "metadata": {
        "id": "view-in-github",
        "colab_type": "text"
      },
      "source": [
        "<a href=\"https://colab.research.google.com/github/ChristyAlex2147215/NLP/blob/main/Lab2.ipynb\" target=\"_parent\"><img src=\"https://colab.research.google.com/assets/colab-badge.svg\" alt=\"Open In Colab\"/></a>"
      ]
    },
    {
      "cell_type": "code",
      "execution_count": null,
      "metadata": {
        "id": "VM6gdlblsEbC"
      },
      "outputs": [],
      "source": [
        "import nltk\n",
        "import pandas as pd\n",
        "import numpy as np"
      ]
    },
    {
      "cell_type": "code",
      "source": [
        "%cd drive/MyDrive/NLP"
      ],
      "metadata": {
        "id": "eqGMwUN0szPx",
        "colab": {
          "base_uri": "https://localhost:8080/"
        },
        "outputId": "85fd3ffb-a18a-4cbd-cbf7-9c743c08528d"
      },
      "execution_count": null,
      "outputs": [
        {
          "output_type": "stream",
          "name": "stdout",
          "text": [
            "[Errno 2] No such file or directory: 'drive/MyDrive/NLP'\n",
            "/content\n"
          ]
        }
      ]
    },
    {
      "cell_type": "code",
      "source": [
        "%cd .."
      ],
      "metadata": {
        "id": "ljWBKMFDs7D5",
        "colab": {
          "base_uri": "https://localhost:8080/"
        },
        "outputId": "0250b8cc-9408-4ea8-e6da-15d85f9c60c2"
      },
      "execution_count": null,
      "outputs": [
        {
          "output_type": "stream",
          "name": "stdout",
          "text": [
            "/\n"
          ]
        }
      ]
    },
    {
      "cell_type": "code",
      "source": [
        "nltk.download('stopwords')"
      ],
      "metadata": {
        "id": "G2B6fFqFtZWw",
        "colab": {
          "base_uri": "https://localhost:8080/"
        },
        "outputId": "3c0b7ebd-ee94-4e09-899b-6822a10e5ce0"
      },
      "execution_count": null,
      "outputs": [
        {
          "output_type": "stream",
          "name": "stderr",
          "text": [
            "[nltk_data] Downloading package stopwords to /root/nltk_data...\n",
            "[nltk_data]   Unzipping corpora/stopwords.zip.\n"
          ]
        },
        {
          "output_type": "execute_result",
          "data": {
            "text/plain": [
              "True"
            ]
          },
          "metadata": {},
          "execution_count": 4
        }
      ]
    },
    {
      "cell_type": "code",
      "source": [
        "nltk.download('punkt')"
      ],
      "metadata": {
        "id": "dXKFXp7Eu8yq",
        "colab": {
          "base_uri": "https://localhost:8080/"
        },
        "outputId": "e3a73faf-419f-484d-d29e-b969b51f782d"
      },
      "execution_count": null,
      "outputs": [
        {
          "output_type": "stream",
          "name": "stderr",
          "text": [
            "[nltk_data] Downloading package punkt to /root/nltk_data...\n",
            "[nltk_data]   Unzipping tokenizers/punkt.zip.\n"
          ]
        },
        {
          "output_type": "execute_result",
          "data": {
            "text/plain": [
              "True"
            ]
          },
          "metadata": {},
          "execution_count": 5
        }
      ]
    },
    {
      "cell_type": "code",
      "source": [
        "from nltk.corpus import stopwords\n",
        "from nltk.tokenize import word_tokenize\n",
        "from nltk.probability import FreqDist\n"
      ],
      "metadata": {
        "id": "6PhOfepgtNvJ"
      },
      "execution_count": null,
      "outputs": []
    },
    {
      "cell_type": "code",
      "source": [
        "example_sent = \"\"\"Police: I understand you were the key witness for the robbery.\n",
        "\n",
        "Woman: Yes, I was the only other person in the bank besides the tellers.\n",
        "\n",
        "Police: Are you okay to answer some questions for me?\n",
        "\n",
        "Woman: Sure. I don't know how much help I'll be. He made me get on the ground so I didn't get a very good look at him.\n",
        "\n",
        "Police: Was he carrying a weapon?\n",
        "\n",
        "Woman: Yes, he had a pistol in his back pocket. He threatened to use it, but I doubt it was loaded.\n",
        "\n",
        "Police: What makes you say that?\n",
        "\n",
        "Woman: He was just a kid. Probably fifteen or younger.\n",
        "\n",
        "Police: Can you describe him for me?\n",
        "\n",
        "Woman: He was Asian. Probably five foot six. He was wearing a baseball cap and sunglasses. I can't remember what else he was wearing.\n",
        "\n",
        "Police: Did he talk directly to you? I mean, did he ask you for your money or anything?\n",
        "\n",
        "Woman: No, he just told me to get on the ground. That's all I know. I'm running late for a class. Is it okay if I go now?\n",
        "\n",
        "Police: I just want to get your name and phone number. If you think of anything else, please notify us.\n",
        "\"\"\""
      ],
      "metadata": {
        "id": "rwAuBtmBupn4"
      },
      "execution_count": null,
      "outputs": []
    },
    {
      "cell_type": "code",
      "source": [
        "stop_words = set(stopwords.words('english'))\n",
        "\n",
        "word_tokens = word_tokenize(example_sent)"
      ],
      "metadata": {
        "id": "LCJTymOou5TQ"
      },
      "execution_count": null,
      "outputs": []
    },
    {
      "cell_type": "code",
      "source": [
        "stop_words"
      ],
      "metadata": {
        "id": "kIjp1rpJ0Hnl",
        "colab": {
          "base_uri": "https://localhost:8080/"
        },
        "outputId": "6ccea84d-a5d3-4db4-c7ed-df225886a667"
      },
      "execution_count": null,
      "outputs": [
        {
          "output_type": "execute_result",
          "data": {
            "text/plain": [
              "{'a',\n",
              " 'about',\n",
              " 'above',\n",
              " 'after',\n",
              " 'again',\n",
              " 'against',\n",
              " 'ain',\n",
              " 'all',\n",
              " 'am',\n",
              " 'an',\n",
              " 'and',\n",
              " 'any',\n",
              " 'are',\n",
              " 'aren',\n",
              " \"aren't\",\n",
              " 'as',\n",
              " 'at',\n",
              " 'be',\n",
              " 'because',\n",
              " 'been',\n",
              " 'before',\n",
              " 'being',\n",
              " 'below',\n",
              " 'between',\n",
              " 'both',\n",
              " 'but',\n",
              " 'by',\n",
              " 'can',\n",
              " 'couldn',\n",
              " \"couldn't\",\n",
              " 'd',\n",
              " 'did',\n",
              " 'didn',\n",
              " \"didn't\",\n",
              " 'do',\n",
              " 'does',\n",
              " 'doesn',\n",
              " \"doesn't\",\n",
              " 'doing',\n",
              " 'don',\n",
              " \"don't\",\n",
              " 'down',\n",
              " 'during',\n",
              " 'each',\n",
              " 'few',\n",
              " 'for',\n",
              " 'from',\n",
              " 'further',\n",
              " 'had',\n",
              " 'hadn',\n",
              " \"hadn't\",\n",
              " 'has',\n",
              " 'hasn',\n",
              " \"hasn't\",\n",
              " 'have',\n",
              " 'haven',\n",
              " \"haven't\",\n",
              " 'having',\n",
              " 'he',\n",
              " 'her',\n",
              " 'here',\n",
              " 'hers',\n",
              " 'herself',\n",
              " 'him',\n",
              " 'himself',\n",
              " 'his',\n",
              " 'how',\n",
              " 'i',\n",
              " 'if',\n",
              " 'in',\n",
              " 'into',\n",
              " 'is',\n",
              " 'isn',\n",
              " \"isn't\",\n",
              " 'it',\n",
              " \"it's\",\n",
              " 'its',\n",
              " 'itself',\n",
              " 'just',\n",
              " 'll',\n",
              " 'm',\n",
              " 'ma',\n",
              " 'me',\n",
              " 'mightn',\n",
              " \"mightn't\",\n",
              " 'more',\n",
              " 'most',\n",
              " 'mustn',\n",
              " \"mustn't\",\n",
              " 'my',\n",
              " 'myself',\n",
              " 'needn',\n",
              " \"needn't\",\n",
              " 'no',\n",
              " 'nor',\n",
              " 'not',\n",
              " 'now',\n",
              " 'o',\n",
              " 'of',\n",
              " 'off',\n",
              " 'on',\n",
              " 'once',\n",
              " 'only',\n",
              " 'or',\n",
              " 'other',\n",
              " 'our',\n",
              " 'ours',\n",
              " 'ourselves',\n",
              " 'out',\n",
              " 'over',\n",
              " 'own',\n",
              " 're',\n",
              " 's',\n",
              " 'same',\n",
              " 'shan',\n",
              " \"shan't\",\n",
              " 'she',\n",
              " \"she's\",\n",
              " 'should',\n",
              " \"should've\",\n",
              " 'shouldn',\n",
              " \"shouldn't\",\n",
              " 'so',\n",
              " 'some',\n",
              " 'such',\n",
              " 't',\n",
              " 'than',\n",
              " 'that',\n",
              " \"that'll\",\n",
              " 'the',\n",
              " 'their',\n",
              " 'theirs',\n",
              " 'them',\n",
              " 'themselves',\n",
              " 'then',\n",
              " 'there',\n",
              " 'these',\n",
              " 'they',\n",
              " 'this',\n",
              " 'those',\n",
              " 'through',\n",
              " 'to',\n",
              " 'too',\n",
              " 'under',\n",
              " 'until',\n",
              " 'up',\n",
              " 've',\n",
              " 'very',\n",
              " 'was',\n",
              " 'wasn',\n",
              " \"wasn't\",\n",
              " 'we',\n",
              " 'were',\n",
              " 'weren',\n",
              " \"weren't\",\n",
              " 'what',\n",
              " 'when',\n",
              " 'where',\n",
              " 'which',\n",
              " 'while',\n",
              " 'who',\n",
              " 'whom',\n",
              " 'why',\n",
              " 'will',\n",
              " 'with',\n",
              " 'won',\n",
              " \"won't\",\n",
              " 'wouldn',\n",
              " \"wouldn't\",\n",
              " 'y',\n",
              " 'you',\n",
              " \"you'd\",\n",
              " \"you'll\",\n",
              " \"you're\",\n",
              " \"you've\",\n",
              " 'your',\n",
              " 'yours',\n",
              " 'yourself',\n",
              " 'yourselves'}"
            ]
          },
          "metadata": {},
          "execution_count": 9
        }
      ]
    },
    {
      "cell_type": "code",
      "source": [
        "len(word_tokens)\n",
        "word_tokens"
      ],
      "metadata": {
        "id": "c2WPV70EyKoo",
        "colab": {
          "base_uri": "https://localhost:8080/"
        },
        "outputId": "6742acf6-84d5-4509-a139-3743c6f2c00e"
      },
      "execution_count": null,
      "outputs": [
        {
          "output_type": "execute_result",
          "data": {
            "text/plain": [
              "['Police',\n",
              " ':',\n",
              " 'I',\n",
              " 'understand',\n",
              " 'you',\n",
              " 'were',\n",
              " 'the',\n",
              " 'key',\n",
              " 'witness',\n",
              " 'for',\n",
              " 'the',\n",
              " 'robbery',\n",
              " '.',\n",
              " 'Woman',\n",
              " ':',\n",
              " 'Yes',\n",
              " ',',\n",
              " 'I',\n",
              " 'was',\n",
              " 'the',\n",
              " 'only',\n",
              " 'other',\n",
              " 'person',\n",
              " 'in',\n",
              " 'the',\n",
              " 'bank',\n",
              " 'besides',\n",
              " 'the',\n",
              " 'tellers',\n",
              " '.',\n",
              " 'Police',\n",
              " ':',\n",
              " 'Are',\n",
              " 'you',\n",
              " 'okay',\n",
              " 'to',\n",
              " 'answer',\n",
              " 'some',\n",
              " 'questions',\n",
              " 'for',\n",
              " 'me',\n",
              " '?',\n",
              " 'Woman',\n",
              " ':',\n",
              " 'Sure',\n",
              " '.',\n",
              " 'I',\n",
              " 'do',\n",
              " \"n't\",\n",
              " 'know',\n",
              " 'how',\n",
              " 'much',\n",
              " 'help',\n",
              " 'I',\n",
              " \"'ll\",\n",
              " 'be',\n",
              " '.',\n",
              " 'He',\n",
              " 'made',\n",
              " 'me',\n",
              " 'get',\n",
              " 'on',\n",
              " 'the',\n",
              " 'ground',\n",
              " 'so',\n",
              " 'I',\n",
              " 'did',\n",
              " \"n't\",\n",
              " 'get',\n",
              " 'a',\n",
              " 'very',\n",
              " 'good',\n",
              " 'look',\n",
              " 'at',\n",
              " 'him',\n",
              " '.',\n",
              " 'Police',\n",
              " ':',\n",
              " 'Was',\n",
              " 'he',\n",
              " 'carrying',\n",
              " 'a',\n",
              " 'weapon',\n",
              " '?',\n",
              " 'Woman',\n",
              " ':',\n",
              " 'Yes',\n",
              " ',',\n",
              " 'he',\n",
              " 'had',\n",
              " 'a',\n",
              " 'pistol',\n",
              " 'in',\n",
              " 'his',\n",
              " 'back',\n",
              " 'pocket',\n",
              " '.',\n",
              " 'He',\n",
              " 'threatened',\n",
              " 'to',\n",
              " 'use',\n",
              " 'it',\n",
              " ',',\n",
              " 'but',\n",
              " 'I',\n",
              " 'doubt',\n",
              " 'it',\n",
              " 'was',\n",
              " 'loaded',\n",
              " '.',\n",
              " 'Police',\n",
              " ':',\n",
              " 'What',\n",
              " 'makes',\n",
              " 'you',\n",
              " 'say',\n",
              " 'that',\n",
              " '?',\n",
              " 'Woman',\n",
              " ':',\n",
              " 'He',\n",
              " 'was',\n",
              " 'just',\n",
              " 'a',\n",
              " 'kid',\n",
              " '.',\n",
              " 'Probably',\n",
              " 'fifteen',\n",
              " 'or',\n",
              " 'younger',\n",
              " '.',\n",
              " 'Police',\n",
              " ':',\n",
              " 'Can',\n",
              " 'you',\n",
              " 'describe',\n",
              " 'him',\n",
              " 'for',\n",
              " 'me',\n",
              " '?',\n",
              " 'Woman',\n",
              " ':',\n",
              " 'He',\n",
              " 'was',\n",
              " 'Asian',\n",
              " '.',\n",
              " 'Probably',\n",
              " 'five',\n",
              " 'foot',\n",
              " 'six',\n",
              " '.',\n",
              " 'He',\n",
              " 'was',\n",
              " 'wearing',\n",
              " 'a',\n",
              " 'baseball',\n",
              " 'cap',\n",
              " 'and',\n",
              " 'sunglasses',\n",
              " '.',\n",
              " 'I',\n",
              " 'ca',\n",
              " \"n't\",\n",
              " 'remember',\n",
              " 'what',\n",
              " 'else',\n",
              " 'he',\n",
              " 'was',\n",
              " 'wearing',\n",
              " '.',\n",
              " 'Police',\n",
              " ':',\n",
              " 'Did',\n",
              " 'he',\n",
              " 'talk',\n",
              " 'directly',\n",
              " 'to',\n",
              " 'you',\n",
              " '?',\n",
              " 'I',\n",
              " 'mean',\n",
              " ',',\n",
              " 'did',\n",
              " 'he',\n",
              " 'ask',\n",
              " 'you',\n",
              " 'for',\n",
              " 'your',\n",
              " 'money',\n",
              " 'or',\n",
              " 'anything',\n",
              " '?',\n",
              " 'Woman',\n",
              " ':',\n",
              " 'No',\n",
              " ',',\n",
              " 'he',\n",
              " 'just',\n",
              " 'told',\n",
              " 'me',\n",
              " 'to',\n",
              " 'get',\n",
              " 'on',\n",
              " 'the',\n",
              " 'ground',\n",
              " '.',\n",
              " 'That',\n",
              " \"'s\",\n",
              " 'all',\n",
              " 'I',\n",
              " 'know',\n",
              " '.',\n",
              " 'I',\n",
              " \"'m\",\n",
              " 'running',\n",
              " 'late',\n",
              " 'for',\n",
              " 'a',\n",
              " 'class',\n",
              " '.',\n",
              " 'Is',\n",
              " 'it',\n",
              " 'okay',\n",
              " 'if',\n",
              " 'I',\n",
              " 'go',\n",
              " 'now',\n",
              " '?',\n",
              " 'Police',\n",
              " ':',\n",
              " 'I',\n",
              " 'just',\n",
              " 'want',\n",
              " 'to',\n",
              " 'get',\n",
              " 'your',\n",
              " 'name',\n",
              " 'and',\n",
              " 'phone',\n",
              " 'number',\n",
              " '.',\n",
              " 'If',\n",
              " 'you',\n",
              " 'think',\n",
              " 'of',\n",
              " 'anything',\n",
              " 'else',\n",
              " ',',\n",
              " 'please',\n",
              " 'notify',\n",
              " 'us',\n",
              " '.']"
            ]
          },
          "metadata": {},
          "execution_count": 10
        }
      ]
    },
    {
      "cell_type": "code",
      "source": [
        "filtered_sentence = [w for w in word_tokens if not w in stop_words]\n",
        "# filtered_sentence2=[w for w in word_tokens if w not in stop_words]\n",
        "\n"
      ],
      "metadata": {
        "id": "JY6tIoiauEXK"
      },
      "execution_count": null,
      "outputs": []
    },
    {
      "cell_type": "code",
      "source": [
        "print(filtered_sentence)"
      ],
      "metadata": {
        "id": "X6as-XInxxPp",
        "colab": {
          "base_uri": "https://localhost:8080/"
        },
        "outputId": "d4e87fd2-930d-4e61-abe8-5c0f2cfc9c00"
      },
      "execution_count": null,
      "outputs": [
        {
          "output_type": "stream",
          "name": "stdout",
          "text": [
            "['Police', ':', 'I', 'understand', 'key', 'witness', 'robbery', '.', 'Woman', ':', 'Yes', ',', 'I', 'person', 'bank', 'besides', 'tellers', '.', 'Police', ':', 'Are', 'okay', 'answer', 'questions', '?', 'Woman', ':', 'Sure', '.', 'I', \"n't\", 'know', 'much', 'help', 'I', \"'ll\", '.', 'He', 'made', 'get', 'ground', 'I', \"n't\", 'get', 'good', 'look', '.', 'Police', ':', 'Was', 'carrying', 'weapon', '?', 'Woman', ':', 'Yes', ',', 'pistol', 'back', 'pocket', '.', 'He', 'threatened', 'use', ',', 'I', 'doubt', 'loaded', '.', 'Police', ':', 'What', 'makes', 'say', '?', 'Woman', ':', 'He', 'kid', '.', 'Probably', 'fifteen', 'younger', '.', 'Police', ':', 'Can', 'describe', '?', 'Woman', ':', 'He', 'Asian', '.', 'Probably', 'five', 'foot', 'six', '.', 'He', 'wearing', 'baseball', 'cap', 'sunglasses', '.', 'I', 'ca', \"n't\", 'remember', 'else', 'wearing', '.', 'Police', ':', 'Did', 'talk', 'directly', '?', 'I', 'mean', ',', 'ask', 'money', 'anything', '?', 'Woman', ':', 'No', ',', 'told', 'get', 'ground', '.', 'That', \"'s\", 'I', 'know', '.', 'I', \"'m\", 'running', 'late', 'class', '.', 'Is', 'okay', 'I', 'go', '?', 'Police', ':', 'I', 'want', 'get', 'name', 'phone', 'number', '.', 'If', 'think', 'anything', 'else', ',', 'please', 'notify', 'us', '.']\n"
          ]
        }
      ]
    },
    {
      "cell_type": "code",
      "source": [
        "filtered_sentence = []\n",
        "\n",
        "for w in word_tokens:\n",
        "    if w not in stop_words:\n",
        "        filtered_sentence.append(w)\n",
        "\n",
        "print(filtered_sentence)\n",
        "\n",
        "wordfreq = []\n",
        "for w in filtered_sentence:\n",
        "    wordfreq.append(filtered_sentence.count(w))\n",
        "\n",
        "print(filtered_sentence,wordfreq)"
      ],
      "metadata": {
        "id": "e0X8Vr7svQko",
        "colab": {
          "base_uri": "https://localhost:8080/"
        },
        "outputId": "90ed485a-c560-4866-8d10-d9a124eff932"
      },
      "execution_count": null,
      "outputs": [
        {
          "output_type": "stream",
          "name": "stdout",
          "text": [
            "['Police', ':', 'I', 'understand', 'key', 'witness', 'robbery', '.', 'Woman', ':', 'Yes', ',', 'I', 'person', 'bank', 'besides', 'tellers', '.', 'Police', ':', 'Are', 'okay', 'answer', 'questions', '?', 'Woman', ':', 'Sure', '.', 'I', \"n't\", 'know', 'much', 'help', 'I', \"'ll\", '.', 'He', 'made', 'get', 'ground', 'I', \"n't\", 'get', 'good', 'look', '.', 'Police', ':', 'Was', 'carrying', 'weapon', '?', 'Woman', ':', 'Yes', ',', 'pistol', 'back', 'pocket', '.', 'He', 'threatened', 'use', ',', 'I', 'doubt', 'loaded', '.', 'Police', ':', 'What', 'makes', 'say', '?', 'Woman', ':', 'He', 'kid', '.', 'Probably', 'fifteen', 'younger', '.', 'Police', ':', 'Can', 'describe', '?', 'Woman', ':', 'He', 'Asian', '.', 'Probably', 'five', 'foot', 'six', '.', 'He', 'wearing', 'baseball', 'cap', 'sunglasses', '.', 'I', 'ca', \"n't\", 'remember', 'else', 'wearing', '.', 'Police', ':', 'Did', 'talk', 'directly', '?', 'I', 'mean', ',', 'ask', 'money', 'anything', '?', 'Woman', ':', 'No', ',', 'told', 'get', 'ground', '.', 'That', \"'s\", 'I', 'know', '.', 'I', \"'m\", 'running', 'late', 'class', '.', 'Is', 'okay', 'I', 'go', '?', 'Police', ':', 'I', 'want', 'get', 'name', 'phone', 'number', '.', 'If', 'think', 'anything', 'else', ',', 'please', 'notify', 'us', '.']\n",
            "['Police', ':', 'I', 'understand', 'key', 'witness', 'robbery', '.', 'Woman', ':', 'Yes', ',', 'I', 'person', 'bank', 'besides', 'tellers', '.', 'Police', ':', 'Are', 'okay', 'answer', 'questions', '?', 'Woman', ':', 'Sure', '.', 'I', \"n't\", 'know', 'much', 'help', 'I', \"'ll\", '.', 'He', 'made', 'get', 'ground', 'I', \"n't\", 'get', 'good', 'look', '.', 'Police', ':', 'Was', 'carrying', 'weapon', '?', 'Woman', ':', 'Yes', ',', 'pistol', 'back', 'pocket', '.', 'He', 'threatened', 'use', ',', 'I', 'doubt', 'loaded', '.', 'Police', ':', 'What', 'makes', 'say', '?', 'Woman', ':', 'He', 'kid', '.', 'Probably', 'fifteen', 'younger', '.', 'Police', ':', 'Can', 'describe', '?', 'Woman', ':', 'He', 'Asian', '.', 'Probably', 'five', 'foot', 'six', '.', 'He', 'wearing', 'baseball', 'cap', 'sunglasses', '.', 'I', 'ca', \"n't\", 'remember', 'else', 'wearing', '.', 'Police', ':', 'Did', 'talk', 'directly', '?', 'I', 'mean', ',', 'ask', 'money', 'anything', '?', 'Woman', ':', 'No', ',', 'told', 'get', 'ground', '.', 'That', \"'s\", 'I', 'know', '.', 'I', \"'m\", 'running', 'late', 'class', '.', 'Is', 'okay', 'I', 'go', '?', 'Police', ':', 'I', 'want', 'get', 'name', 'phone', 'number', '.', 'If', 'think', 'anything', 'else', ',', 'please', 'notify', 'us', '.'] [7, 13, 12, 1, 1, 1, 1, 18, 6, 13, 2, 6, 12, 1, 1, 1, 1, 18, 7, 13, 1, 2, 1, 1, 7, 6, 13, 1, 18, 12, 3, 2, 1, 1, 12, 1, 18, 5, 1, 4, 2, 12, 3, 4, 1, 1, 18, 7, 13, 1, 1, 1, 7, 6, 13, 2, 6, 1, 1, 1, 18, 5, 1, 1, 6, 12, 1, 1, 18, 7, 13, 1, 1, 1, 7, 6, 13, 5, 1, 18, 2, 1, 1, 18, 7, 13, 1, 1, 7, 6, 13, 5, 1, 18, 2, 1, 1, 1, 18, 5, 2, 1, 1, 1, 18, 12, 1, 3, 1, 2, 2, 18, 7, 13, 1, 1, 1, 7, 12, 1, 6, 1, 1, 2, 7, 6, 13, 1, 6, 1, 4, 2, 18, 1, 1, 12, 2, 18, 12, 1, 1, 1, 1, 18, 1, 2, 12, 1, 7, 7, 13, 12, 1, 4, 1, 1, 1, 18, 1, 1, 2, 2, 6, 1, 1, 1, 18]\n"
          ]
        }
      ]
    },
    {
      "cell_type": "code",
      "source": [
        "for i in range(len(filtered_sentence)):\n",
        "    print(str(filtered_sentence[i])+\"==\"+str(wordfreq[i]))"
      ],
      "metadata": {
        "id": "Fmmh-VUJwJL6",
        "colab": {
          "base_uri": "https://localhost:8080/"
        },
        "outputId": "56ece61d-bacb-4075-e462-47825b81c608"
      },
      "execution_count": null,
      "outputs": [
        {
          "output_type": "stream",
          "name": "stdout",
          "text": [
            "Police==7\n",
            ":==13\n",
            "I==12\n",
            "understand==1\n",
            "key==1\n",
            "witness==1\n",
            "robbery==1\n",
            ".==18\n",
            "Woman==6\n",
            ":==13\n",
            "Yes==2\n",
            ",==6\n",
            "I==12\n",
            "person==1\n",
            "bank==1\n",
            "besides==1\n",
            "tellers==1\n",
            ".==18\n",
            "Police==7\n",
            ":==13\n",
            "Are==1\n",
            "okay==2\n",
            "answer==1\n",
            "questions==1\n",
            "?==7\n",
            "Woman==6\n",
            ":==13\n",
            "Sure==1\n",
            ".==18\n",
            "I==12\n",
            "n't==3\n",
            "know==2\n",
            "much==1\n",
            "help==1\n",
            "I==12\n",
            "'ll==1\n",
            ".==18\n",
            "He==5\n",
            "made==1\n",
            "get==4\n",
            "ground==2\n",
            "I==12\n",
            "n't==3\n",
            "get==4\n",
            "good==1\n",
            "look==1\n",
            ".==18\n",
            "Police==7\n",
            ":==13\n",
            "Was==1\n",
            "carrying==1\n",
            "weapon==1\n",
            "?==7\n",
            "Woman==6\n",
            ":==13\n",
            "Yes==2\n",
            ",==6\n",
            "pistol==1\n",
            "back==1\n",
            "pocket==1\n",
            ".==18\n",
            "He==5\n",
            "threatened==1\n",
            "use==1\n",
            ",==6\n",
            "I==12\n",
            "doubt==1\n",
            "loaded==1\n",
            ".==18\n",
            "Police==7\n",
            ":==13\n",
            "What==1\n",
            "makes==1\n",
            "say==1\n",
            "?==7\n",
            "Woman==6\n",
            ":==13\n",
            "He==5\n",
            "kid==1\n",
            ".==18\n",
            "Probably==2\n",
            "fifteen==1\n",
            "younger==1\n",
            ".==18\n",
            "Police==7\n",
            ":==13\n",
            "Can==1\n",
            "describe==1\n",
            "?==7\n",
            "Woman==6\n",
            ":==13\n",
            "He==5\n",
            "Asian==1\n",
            ".==18\n",
            "Probably==2\n",
            "five==1\n",
            "foot==1\n",
            "six==1\n",
            ".==18\n",
            "He==5\n",
            "wearing==2\n",
            "baseball==1\n",
            "cap==1\n",
            "sunglasses==1\n",
            ".==18\n",
            "I==12\n",
            "ca==1\n",
            "n't==3\n",
            "remember==1\n",
            "else==2\n",
            "wearing==2\n",
            ".==18\n",
            "Police==7\n",
            ":==13\n",
            "Did==1\n",
            "talk==1\n",
            "directly==1\n",
            "?==7\n",
            "I==12\n",
            "mean==1\n",
            ",==6\n",
            "ask==1\n",
            "money==1\n",
            "anything==2\n",
            "?==7\n",
            "Woman==6\n",
            ":==13\n",
            "No==1\n",
            ",==6\n",
            "told==1\n",
            "get==4\n",
            "ground==2\n",
            ".==18\n",
            "That==1\n",
            "'s==1\n",
            "I==12\n",
            "know==2\n",
            ".==18\n",
            "I==12\n",
            "'m==1\n",
            "running==1\n",
            "late==1\n",
            "class==1\n",
            ".==18\n",
            "Is==1\n",
            "okay==2\n",
            "I==12\n",
            "go==1\n",
            "?==7\n",
            "Police==7\n",
            ":==13\n",
            "I==12\n",
            "want==1\n",
            "get==4\n",
            "name==1\n",
            "phone==1\n",
            "number==1\n",
            ".==18\n",
            "If==1\n",
            "think==1\n",
            "anything==2\n",
            "else==2\n",
            ",==6\n",
            "please==1\n",
            "notify==1\n",
            "us==1\n",
            ".==18\n"
          ]
        }
      ]
    },
    {
      "cell_type": "code",
      "source": [
        "import matplotlib.pyplot as plt\n",
        "plt.bar(filtered_sentence[:10],wordfreq[:10])\n",
        "plt.show()"
      ],
      "metadata": {
        "id": "uhSmMJpT6eAj",
        "colab": {
          "base_uri": "https://localhost:8080/"
        },
        "outputId": "93cdafb9-f6a6-4360-85a6-ed7b47050952"
      },
      "execution_count": null,
      "outputs": [
        {
          "output_type": "error",
          "ename": "NameError",
          "evalue": "ignored",
          "traceback": [
            "\u001b[0;31m---------------------------------------------------------------------------\u001b[0m",
            "\u001b[0;31mNameError\u001b[0m                                 Traceback (most recent call last)",
            "\u001b[0;32m<ipython-input-1-7e2e9fedd9e9>\u001b[0m in \u001b[0;36m<module>\u001b[0;34m()\u001b[0m\n\u001b[1;32m      1\u001b[0m \u001b[0;32mimport\u001b[0m \u001b[0mmatplotlib\u001b[0m\u001b[0;34m.\u001b[0m\u001b[0mpyplot\u001b[0m \u001b[0;32mas\u001b[0m \u001b[0mplt\u001b[0m\u001b[0;34m\u001b[0m\u001b[0;34m\u001b[0m\u001b[0m\n\u001b[0;32m----> 2\u001b[0;31m \u001b[0mplt\u001b[0m\u001b[0;34m.\u001b[0m\u001b[0mbar\u001b[0m\u001b[0;34m(\u001b[0m\u001b[0mfiltered_sentence\u001b[0m\u001b[0;34m[\u001b[0m\u001b[0;34m:\u001b[0m\u001b[0;36m10\u001b[0m\u001b[0;34m]\u001b[0m\u001b[0;34m,\u001b[0m\u001b[0mwordfreq\u001b[0m\u001b[0;34m[\u001b[0m\u001b[0;34m:\u001b[0m\u001b[0;36m10\u001b[0m\u001b[0;34m]\u001b[0m\u001b[0;34m)\u001b[0m\u001b[0;34m\u001b[0m\u001b[0;34m\u001b[0m\u001b[0m\n\u001b[0m\u001b[1;32m      3\u001b[0m \u001b[0mplt\u001b[0m\u001b[0;34m.\u001b[0m\u001b[0mshow\u001b[0m\u001b[0;34m(\u001b[0m\u001b[0;34m)\u001b[0m\u001b[0;34m\u001b[0m\u001b[0;34m\u001b[0m\u001b[0m\n",
            "\u001b[0;31mNameError\u001b[0m: name 'filtered_sentence' is not defined"
          ]
        }
      ]
    },
    {
      "cell_type": "code",
      "source": [
        "plt.barh(filtered_sentence[:15], wordfreq[:15])\n",
        " \n",
        "# setting label of y-axis\n",
        "plt.ylabel(\"words\")\n",
        " \n",
        "# setting label of x-axis\n",
        "plt.xlabel(\"count\")\n",
        "plt.title(\"Horizontal bar graph\")\n",
        "plt.show()"
      ],
      "metadata": {
        "colab": {
          "base_uri": "https://localhost:8080/",
          "height": 295
        },
        "id": "49QUmFgaKLWq",
        "outputId": "92137b5e-7d2b-4408-9869-72b6223e7d8a"
      },
      "execution_count": null,
      "outputs": [
        {
          "output_type": "display_data",
          "data": {
            "text/plain": [
              "<Figure size 432x288 with 1 Axes>"
            ],
            "image/png": "[encoded data removed]"
          },
          "metadata": {
            "needs_background": "light"
          }
        }
      ]
    },
    {
      "cell_type": "code",
      "source": [
        ""
      ],
      "metadata": {
        "id": "yLCfgJQ8MqTr"
      },
      "execution_count": null,
      "outputs": []
    }
  ]
}
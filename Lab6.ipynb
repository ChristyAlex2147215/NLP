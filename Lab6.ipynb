{
  "nbformat": 4,
  "nbformat_minor": 0,
  "metadata": {
    "colab": {
      "name": "Lab6.ipynb",
      "provenance": [],
      "authorship_tag": "ABX9TyNs8mnqgOrNzk0qMUldijv+",
      "include_colab_link": true
    },
    "kernelspec": {
      "name": "python3",
      "display_name": "Python 3"
    },
    "language_info": {
      "name": "python"
    }
  },
  "cells": [
    {
      "cell_type": "markdown",
      "metadata": {
        "id": "view-in-github",
        "colab_type": "text"
      },
      "source": [
        "<a href=\"https://colab.research.google.com/github/ChristyAlex2147215/NLP/blob/main/Lab6.ipynb\" target=\"_parent\"><img src=\"https://colab.research.google.com/assets/colab-badge.svg\" alt=\"Open In Colab\"/></a>"
      ]
    },
    {
      "cell_type": "markdown",
      "source": [
        "#Stemming is an NLP process that reduces the inflection in words to their root forms which in turn helps to preprocess text, words, and documents for text normalization."
      ],
      "metadata": {
        "id": "dKEjrAZV2djW"
      }
    },
    {
      "cell_type": "markdown",
      "source": [
        "#Types of Stemming"
      ],
      "metadata": {
        "id": "ztNMWfdn19nj"
      }
    },
    {
      "cell_type": "markdown",
      "source": [
        "Porter Stemmer – PorterStemmer()\n",
        "In 1980, Martin Porter developed the Porter Stemmer or Porter algorithm. Five-word reduction phases are used in the method, each with its own set of mapping rules. Porter Stemmer is the earliest stemmer and is noted for its speed and ease of use.\n",
        "\n",
        "Snowball Stemmer – SnowballStemmer()\n",
        "Martin Porter also created Snowball Stemmer. The algorithm used here is \"English Stemmer\" or \"Porter2 Stemmer,\" and it is more accurate. It is a minor improvement over the original Porter Stemmer in logic and speed.\n",
        "\n",
        "Lancaster Stemmer – LancasterStemmer()\n",
        "Lancaster Stemmer is simple, but it produces over stemming results. Over-stemming results in stems that are not linguistic or have no meaning.\n",
        "\n",
        "Regexp Stemmer – RegexpStemmer()\n",
        "The Regex stemmer uses regular expressions to identify morphological affixes. Substrings that match the regular expressions are removed."
      ],
      "metadata": {
        "id": "1UQjtvOx2Ss5"
      }
    },
    {
      "cell_type": "code",
      "source": [
        "sample_word=\"For those spending time at home, looking for a cozy adventure or bedtime story for kids, we offer this imaginative rhyming picture book, read by the author, Daniel Errico. Follow the Marmabill on her quest through the rainforest, where she meets fantastical creatures like wugs, tankadiggies, and flying fluthers. As her journey takes her from treetops to glowing underground caves, the Marmabill finds out for herself the true meaning of home. Remember, our stories for kids are here for you to read at any time.\""
      ],
      "metadata": {
        "id": "VdqWXPNY3972"
      },
      "execution_count": 1,
      "outputs": []
    },
    {
      "cell_type": "code",
      "execution_count": 2,
      "metadata": {
        "id": "TQr_zY_p1v0s",
        "colab": {
          "base_uri": "https://localhost:8080/",
          "height": 36
        },
        "outputId": "a8b01aa6-7307-4d8d-989f-9db385207b0e"
      },
      "outputs": [
        {
          "output_type": "execute_result",
          "data": {
            "text/plain": [
              "'comput'"
            ],
            "application/vnd.google.colaboratory.intrinsic+json": {
              "type": "string"
            }
          },
          "metadata": {},
          "execution_count": 2
        }
      ],
      "source": [
        "from nltk.stem.porter import PorterStemmer\n",
        "stemmer = PorterStemmer()\n",
        "stemmer.stem(\"computer\")"
      ]
    },
    {
      "cell_type": "code",
      "source": [
        "from nltk.stem.snowball import SnowballStemmer\n",
        "print(SnowballStemmer.languages)\n",
        "stemmer_2 = SnowballStemmer(language=\"english\")"
      ],
      "metadata": {
        "id": "OrCfdnUP2tvs",
        "colab": {
          "base_uri": "https://localhost:8080/"
        },
        "outputId": "73895ed6-2361-4221-b913-9cf5613c0c01"
      },
      "execution_count": 3,
      "outputs": [
        {
          "output_type": "stream",
          "name": "stdout",
          "text": [
            "('arabic', 'danish', 'dutch', 'english', 'finnish', 'french', 'german', 'hungarian', 'italian', 'norwegian', 'porter', 'portuguese', 'romanian', 'russian', 'spanish', 'swedish')\n"
          ]
        }
      ]
    },
    {
      "cell_type": "code",
      "source": [
        "from nltk.stem import LancasterStemmer\n",
        "\n",
        "lancaster = LancasterStemmer()\n",
        "words = ['eating','eats','eaten','puts','putting']\n",
        "\n",
        "for word in words:\n",
        "    print(word,\"--->\",lancaster.stem(word))"
      ],
      "metadata": {
        "id": "mm8iz31M2uRe",
        "colab": {
          "base_uri": "https://localhost:8080/"
        },
        "outputId": "360f9147-f04f-409e-a137-0079bf6dc273"
      },
      "execution_count": 4,
      "outputs": [
        {
          "output_type": "stream",
          "name": "stdout",
          "text": [
            "eating ---> eat\n",
            "eats ---> eat\n",
            "eaten ---> eat\n",
            "puts ---> put\n",
            "putting ---> put\n"
          ]
        }
      ]
    },
    {
      "cell_type": "markdown",
      "source": [
        "#comparisons"
      ],
      "metadata": {
        "id": "-6YxXk5h32Du"
      }
    },
    {
      "cell_type": "code",
      "source": [
        "from nltk.stem import PorterStemmer, SnowballStemmer, LancasterStemmer, RegexpStemmer\n",
        "porter = PorterStemmer()\n",
        "lancaster = LancasterStemmer()\n",
        "snowball = SnowballStemmer(language='english')\n",
        "regexp = RegexpStemmer('ing$|s$|e$|able$', min=4)\n"
      ],
      "metadata": {
        "id": "IUE91lc_2urc"
      },
      "execution_count": 5,
      "outputs": []
    },
    {
      "cell_type": "code",
      "source": [
        "for word in sample_word\n",
        "print(word,\"--->\",snowball.stem(word),\"--->\",regexp.stem(word))"
      ],
      "metadata": {
        "id": "7tIDDHBF2vAy",
        "colab": {
          "base_uri": "https://localhost:8080/"
        },
        "outputId": "4a8b190d-2fd9-41ec-df5f-ae12dc8ab588"
      },
      "execution_count": 19,
      "outputs": [
        {
          "output_type": "stream",
          "name": "stdout",
          "text": [
            "putting ---> bitch\n"
          ]
        }
      ]
    },
    {
      "cell_type": "code",
      "source": [
        ""
      ],
      "metadata": {
        "id": "I4XDc6762vWn"
      },
      "execution_count": 5,
      "outputs": []
    },
    {
      "cell_type": "markdown",
      "source": [
        "#LancasterStemmer --English"
      ],
      "metadata": {
        "id": "hy03Znno5NmV"
      }
    },
    {
      "cell_type": "code",
      "source": [
        "#english sample words\n",
        "sample_word"
      ],
      "metadata": {
        "colab": {
          "base_uri": "https://localhost:8080/",
          "height": 36
        },
        "id": "dsozkRzV5jBJ",
        "outputId": "4a01d046-3fe7-489a-d8c0-42c4f65daafb"
      },
      "execution_count": 20,
      "outputs": [
        {
          "output_type": "execute_result",
          "data": {
            "text/plain": [
              "'Mi chiamo Francesca e lavoro come segretaria nella scuola elementare della mia città. Ogni mattina, mi sveglio alle 7 e preparo la colazione per tutta la famiglia.'"
            ],
            "application/vnd.google.colaboratory.intrinsic+json": {
              "type": "string"
            }
          },
          "metadata": {},
          "execution_count": 20
        }
      ]
    },
    {
      "cell_type": "code",
      "source": [
        "from nltk.stem import LancasterStemmer\n",
        "from string import punctuation \n",
        "lancaster = LancasterStemmer()\n",
        "sample=sample_word.split()\n",
        "words = [i for i in sample]\n",
        "final=[i for i in words if i not in punctuation]\n",
        "print(final)\n",
        "inflection=0\n",
        "\n",
        "for finals in final:\n",
        "    print(finals,\"--->\",lancaster.stem(finals),\"-->\",snowball.stem(finals))\n",
        "    if lancaster.stem(finals)!=snowball.stem(finals):\n",
        "      inflection+=1\n",
        "print(\"Inflection is :\",inflection)      \n"
      ],
      "metadata": {
        "colab": {
          "base_uri": "https://localhost:8080/"
        },
        "id": "wCJPCWxP5flM",
        "outputId": "04794c09-cc9d-40a4-911b-082055d96e94"
      },
      "execution_count": 23,
      "outputs": [
        {
          "output_type": "stream",
          "name": "stdout",
          "text": [
            "['Mi', 'chiamo', 'Francesca', 'e', 'lavoro', 'come', 'segretaria', 'nella', 'scuola', 'elementare', 'della', 'mia', 'città.', 'Ogni', 'mattina,', 'mi', 'sveglio', 'alle', '7', 'e', 'preparo', 'la', 'colazione', 'per', 'tutta', 'la', 'famiglia.']\n",
            "Mi ---> mi --> mi\n",
            "chiamo ---> chiamo --> chiamo\n",
            "Francesca ---> francesc --> francesca\n",
            "e ---> e --> e\n",
            "lavoro ---> lavoro --> lavoro\n",
            "come ---> com --> come\n",
            "segretaria ---> segretar --> segretaria\n",
            "nella ---> nell --> nella\n",
            "scuola ---> scuol --> scuola\n",
            "elementare ---> element --> elementar\n",
            "della ---> dell --> della\n",
            "mia ---> mia --> mia\n",
            "città. ---> città. --> città.\n",
            "Ogni ---> ogn --> ogni\n",
            "mattina, ---> mattina, --> mattina,\n",
            "mi ---> mi --> mi\n",
            "sveglio ---> sveglio --> sveglio\n",
            "alle ---> al --> all\n",
            "7 ---> 7 --> 7\n",
            "e ---> e --> e\n",
            "preparo ---> preparo --> preparo\n",
            "la ---> la --> la\n",
            "colazione ---> colaz --> colazion\n",
            "per ---> per --> per\n",
            "tutta ---> tutt --> tutta\n",
            "la ---> la --> la\n",
            "famiglia. ---> famiglia. --> famiglia.\n",
            "11\n"
          ]
        }
      ]
    },
    {
      "cell_type": "markdown",
      "source": [
        "#"
      ],
      "metadata": {
        "id": "wM_JEVkb8vMd"
      }
    },
    {
      "cell_type": "markdown",
      "source": [
        "#snowball stemmer-Spanish"
      ],
      "metadata": {
        "id": "9frrgbmr5eEV"
      }
    },
    {
      "cell_type": "code",
      "source": [
        "sample_word=\"\"\" Es el 23 de mayo. Hoy es el día. Me gusta mucho esta fecha. Son las 8:00 am y todavía estoy en la cama.\n",
        "Usualmente empiezo el trabajo a las 8:30. Pienso que voy a llegar tarde. Pero hoy, no importa.\"\"\""
      ],
      "metadata": {
        "id": "ezD9PMEI9laz"
      },
      "execution_count": 35,
      "outputs": []
    },
    {
      "cell_type": "code",
      "source": [
        "# import snowballstemmer\n",
        "\n",
        "# stemmersp = snowballstemmer.stemmer('spanish');\n",
        "# print(stemmersp.stemWords(sample_word.split()));"
      ],
      "metadata": {
        "colab": {
          "base_uri": "https://localhost:8080/"
        },
        "id": "sQnf1ppl9H0Z",
        "outputId": "f11e4b67-19b1-4628-e7eb-4b040fb58c87"
      },
      "execution_count": 38,
      "outputs": [
        {
          "output_type": "stream",
          "name": "stdout",
          "text": [
            "['Es', 'el', '23', 'de', 'mayo.', 'Hoy', 'es', 'el', 'dia.', 'Me', 'gust', 'much', 'esta', 'fecha.', 'Son', 'las', '8:00', 'am', 'y', 'todav', 'estoy', 'en', 'la', 'cama.', 'Usualment', 'empiez', 'el', 'trabaj', 'a', 'las', '8:30.', 'Piens', 'que', 'voy', 'a', 'lleg', 'tarde.', 'Per', 'hoy,', 'no', 'importa.']\n"
          ]
        }
      ]
    },
    {
      "cell_type": "code",
      "source": [
        "from nltk.stem.snowball import SpanishStemmer\n",
        "from nltk.stem import PorterStemmer, SnowballStemmer, LancasterStemmer, RegexpStemmer\n",
        "stemmer = SpanishStemmer()\n",
        "inflation=0\n",
        "stemmer_re=RegexpStemmer('ing$|s$|e$|able$', min=4)\n",
        "for i in sample_word.split():\n",
        "  print(i,\"-->\",stemmer.stem(i),\"-->\",stemmer_re.stem(i))\n",
        "  if stemmer.stem(i)!=stemmer_re.stem(i):\n",
        "    inflation+=1\n",
        "print(\"inflation\",inflation)    \n"
      ],
      "metadata": {
        "colab": {
          "base_uri": "https://localhost:8080/"
        },
        "id": "44AGjx1QAFwp",
        "outputId": "e79f7d89-413c-4c45-9d6c-d1225fde81c5"
      },
      "execution_count": 47,
      "outputs": [
        {
          "output_type": "stream",
          "name": "stdout",
          "text": [
            "Es --> es --> Es\n",
            "el --> el --> el\n",
            "23 --> 23 --> 23\n",
            "de --> de --> de\n",
            "mayo. --> mayo. --> mayo.\n",
            "Hoy --> hoy --> Hoy\n",
            "es --> es --> es\n",
            "el --> el --> el\n",
            "día. --> dia. --> día.\n",
            "Me --> me --> Me\n",
            "gusta --> gust --> gusta\n",
            "mucho --> much --> mucho\n",
            "esta --> esta --> esta\n",
            "fecha. --> fecha. --> fecha.\n",
            "Son --> son --> Son\n",
            "las --> las --> las\n",
            "8:00 --> 8:00 --> 8:00\n",
            "am --> am --> am\n",
            "y --> y --> y\n",
            "todavía --> todav --> todavía\n",
            "estoy --> estoy --> estoy\n",
            "en --> en --> en\n",
            "la --> la --> la\n",
            "cama. --> cama. --> cama.\n",
            "Usualmente --> usual --> Usualment\n",
            "empiezo --> empiez --> empiezo\n",
            "el --> el --> el\n",
            "trabajo --> trabaj --> trabajo\n",
            "a --> a --> a\n",
            "las --> las --> las\n",
            "8:30. --> 8:30. --> 8:30.\n",
            "Pienso --> piens --> Pienso\n",
            "que --> que --> que\n",
            "voy --> voy --> voy\n",
            "a --> a --> a\n",
            "llegar --> lleg --> llegar\n",
            "tarde. --> tarde. --> tarde.\n",
            "Pero --> per --> Pero\n",
            "hoy, --> hoy, --> hoy,\n",
            "no --> no --> no\n",
            "importa. --> importa. --> importa.\n",
            "inflation 14\n"
          ]
        }
      ]
    },
    {
      "cell_type": "markdown",
      "source": [
        "#snowballstemmer -German"
      ],
      "metadata": {
        "id": "7uVMewQ69aEU"
      }
    },
    {
      "cell_type": "code",
      "source": [
        "sample_word=\"Mein Name ist Anna. Ich komme aus Österreich und lebe seit drei Jahren in Deutschland. Ich bin 15 Jahre alt und habe zwei Geschwister: Meine Schwester heißt Klara und ist 13 Jahre alt, mein Bruder Michael ist 18 Jahre alt. Wir wohnen mit unseren Eltern in einem Haus in der Nähe von München. Meine Mutter ist Köchin, mein Vater arbeitet in einer Bank.\""
      ],
      "metadata": {
        "id": "BY0AFIgYAyoE"
      },
      "execution_count": 48,
      "outputs": []
    },
    {
      "cell_type": "code",
      "source": [
        "from nltk.stem.snowball import GermanStemmer\n",
        "from nltk.stem import PorterStemmer, SnowballStemmer, LancasterStemmer, RegexpStemmer\n",
        "stemmer = GermanStemmer()\n",
        "inflation=0\n",
        "stemmer_re=RegexpStemmer('ing$|s$|e$|able$', min=4)\n",
        "for i in sample_word.split():\n",
        "  print(i,\"-->\",stemmer.stem(i),\"-->\",stemmer_re.stem(i))\n",
        "  if stemmer.stem(i)!=stemmer_re.stem(i):\n",
        "    inflation+=1\n",
        "print(\"inflation\",inflation)"
      ],
      "metadata": {
        "colab": {
          "base_uri": "https://localhost:8080/"
        },
        "id": "h_xxRO7A-tMC",
        "outputId": "1802f9b9-ff9c-482e-d3c7-711707dc5121"
      },
      "execution_count": 49,
      "outputs": [
        {
          "output_type": "stream",
          "name": "stdout",
          "text": [
            "Mein --> mein --> Mein\n",
            "Name --> nam --> Nam\n",
            "ist --> ist --> ist\n",
            "Anna. --> anna. --> Anna.\n",
            "Ich --> ich --> Ich\n",
            "komme --> komm --> komm\n",
            "aus --> aus --> aus\n",
            "Österreich --> osterreich --> Österreich\n",
            "und --> und --> und\n",
            "lebe --> leb --> leb\n",
            "seit --> seit --> seit\n",
            "drei --> drei --> drei\n",
            "Jahren --> jahr --> Jahren\n",
            "in --> in --> in\n",
            "Deutschland. --> deutschland. --> Deutschland.\n",
            "Ich --> ich --> Ich\n",
            "bin --> bin --> bin\n",
            "15 --> 15 --> 15\n",
            "Jahre --> jahr --> Jahr\n",
            "alt --> alt --> alt\n",
            "und --> und --> und\n",
            "habe --> hab --> hab\n",
            "zwei --> zwei --> zwei\n",
            "Geschwister: --> geschwister: --> Geschwister:\n",
            "Meine --> mein --> Mein\n",
            "Schwester --> schwest --> Schwester\n",
            "heißt --> heisst --> heißt\n",
            "Klara --> klara --> Klara\n",
            "und --> und --> und\n",
            "ist --> ist --> ist\n",
            "13 --> 13 --> 13\n",
            "Jahre --> jahr --> Jahr\n",
            "alt, --> alt, --> alt,\n",
            "mein --> mein --> mein\n",
            "Bruder --> brud --> Bruder\n",
            "Michael --> michael --> Michael\n",
            "ist --> ist --> ist\n",
            "18 --> 18 --> 18\n",
            "Jahre --> jahr --> Jahr\n",
            "alt. --> alt. --> alt.\n",
            "Wir --> wir --> Wir\n",
            "wohnen --> wohn --> wohnen\n",
            "mit --> mit --> mit\n",
            "unseren --> uns --> unseren\n",
            "Eltern --> elt --> Eltern\n",
            "in --> in --> in\n",
            "einem --> ein --> einem\n",
            "Haus --> haus --> Hau\n",
            "in --> in --> in\n",
            "der --> der --> der\n",
            "Nähe --> nah --> Näh\n",
            "von --> von --> von\n",
            "München. --> munchen. --> München.\n",
            "Meine --> mein --> Mein\n",
            "Mutter --> mutt --> Mutter\n",
            "ist --> ist --> ist\n",
            "Köchin, --> kochin, --> Köchin,\n",
            "mein --> mein --> mein\n",
            "Vater --> vat --> Vater\n",
            "arbeitet --> arbeitet --> arbeitet\n",
            "in --> in --> in\n",
            "einer --> ein --> einer\n",
            "Bank. --> bank. --> Bank.\n",
            "inflation 32\n"
          ]
        }
      ]
    },
    {
      "cell_type": "markdown",
      "source": [
        ""
      ],
      "metadata": {
        "id": "Nkt2CcxU91ws"
      }
    },
    {
      "cell_type": "markdown",
      "source": [
        "#snowballstemmer - french"
      ],
      "metadata": {
        "id": "C1iqNHj79VBB"
      }
    },
    {
      "cell_type": "code",
      "source": [
        "sample_word=\"Je m'appelle Camille et quand j'étais enfant, j'avais des rêves plein la tête. Je voulais être professeur et enseigner les mathématiques. Puis, je voulais devenir docteur pour soigner les malades. Pour moi, les médecins et les infirmières sont des héros sans costume.\""
      ],
      "metadata": {
        "id": "Olr7rUKZBxxf"
      },
      "execution_count": 12,
      "outputs": []
    },
    {
      "cell_type": "code",
      "source": [
        "from nltk.stem.snowball import FrenchStemmer\n",
        "from nltk.stem import PorterStemmer, SnowballStemmer, LancasterStemmer, RegexpStemmer\n",
        "stemmer = FrenchStemmer()\n",
        "inflation=0\n",
        "stemmer_re=RegexpStemmer('ing$|s$|e$|able$', min=4)\n",
        "for i in sample_word.split():\n",
        "  print(i,\"-->\",stemmer.stem(i),\"-->\",stemmer_re.stem(i))\n",
        "  if stemmer.stem(i)!=stemmer_re.stem(i):\n",
        "    inflation+=1\n",
        "print(\"inflation\",inflation)"
      ],
      "metadata": {
        "colab": {
          "base_uri": "https://localhost:8080/"
        },
        "id": "Zm7bGEGDBy8Y",
        "outputId": "1594c612-ed02-4dc8-b82c-dc8304f8b2b1"
      },
      "execution_count": 51,
      "outputs": [
        {
          "output_type": "stream",
          "name": "stdout",
          "text": [
            "Mein --> mein --> Mein\n",
            "Name --> nam --> Nam\n",
            "ist --> ist --> ist\n",
            "Anna. --> anna. --> Anna.\n",
            "Ich --> ich --> Ich\n",
            "komme --> komm --> komm\n",
            "aus --> aus --> aus\n",
            "Österreich --> österreich --> Österreich\n",
            "und --> und --> und\n",
            "lebe --> leb --> leb\n",
            "seit --> seit --> seit\n",
            "drei --> drei --> drei\n",
            "Jahren --> jahren --> Jahren\n",
            "in --> in --> in\n",
            "Deutschland. --> deutschland. --> Deutschland.\n",
            "Ich --> ich --> Ich\n",
            "bin --> bin --> bin\n",
            "15 --> 15 --> 15\n",
            "Jahre --> jahr --> Jahr\n",
            "alt --> alt --> alt\n",
            "und --> und --> und\n",
            "habe --> hab --> hab\n",
            "zwei --> zwei --> zwei\n",
            "Geschwister: --> geschwister: --> Geschwister:\n",
            "Meine --> mein --> Mein\n",
            "Schwester --> schwest --> Schwester\n",
            "heißt --> heißt --> heißt\n",
            "Klara --> klar --> Klara\n",
            "und --> und --> und\n",
            "ist --> ist --> ist\n",
            "13 --> 13 --> 13\n",
            "Jahre --> jahr --> Jahr\n",
            "alt, --> alt, --> alt,\n",
            "mein --> mein --> mein\n",
            "Bruder --> brud --> Bruder\n",
            "Michael --> michael --> Michael\n",
            "ist --> ist --> ist\n",
            "18 --> 18 --> 18\n",
            "Jahre --> jahr --> Jahr\n",
            "alt. --> alt. --> alt.\n",
            "Wir --> wir --> Wir\n",
            "wohnen --> wohnen --> wohnen\n",
            "mit --> mit --> mit\n",
            "unseren --> unseren --> unseren\n",
            "Eltern --> eltern --> Eltern\n",
            "in --> in --> in\n",
            "einem --> einem --> einem\n",
            "Haus --> haus --> Hau\n",
            "in --> in --> in\n",
            "der --> der --> der\n",
            "Nähe --> nähe --> Näh\n",
            "von --> von --> von\n",
            "München. --> münchen. --> München.\n",
            "Meine --> mein --> Mein\n",
            "Mutter --> mutt --> Mutter\n",
            "ist --> ist --> ist\n",
            "Köchin, --> köchin, --> Köchin,\n",
            "mein --> mein --> mein\n",
            "Vater --> vat --> Vater\n",
            "arbeitet --> arbeitet --> arbeitet\n",
            "in --> in --> in\n",
            "einer --> ein --> einer\n",
            "Bank. --> bank. --> Bank.\n",
            "inflation 28\n"
          ]
        }
      ]
    },
    {
      "cell_type": "markdown",
      "source": [
        "#snowballstemmer -italian"
      ],
      "metadata": {
        "id": "Pp-0sAHA9b5O"
      }
    },
    {
      "cell_type": "code",
      "source": [
        "sample_word=\"Mi chiamo Francesca e lavoro come segretaria nella scuola elementare della mia città. Ogni mattina, mi sveglio alle 7 e preparo la colazione per tutta la famiglia.\""
      ],
      "metadata": {
        "id": "UoOLMLcVB2OY"
      },
      "execution_count": 14,
      "outputs": []
    },
    {
      "cell_type": "code",
      "source": [
        "from nltk.stem.snowball import ItalianStemmer\n",
        "from nltk.stem import PorterStemmer, SnowballStemmer, LancasterStemmer, RegexpStemmer\n",
        "stemmer = ItalianStemmer()\n",
        "inflation=0\n",
        "stemmer_re=RegexpStemmer('ing$|s$|e$|able$', min=4)\n",
        "for i in sample_word.split():\n",
        "  print(i,\"-->\",stemmer.stem(i),\"-->\",stemmer_re.stem(i))\n",
        "  if stemmer.stem(i)!=stemmer_re.stem(i):\n",
        "    inflation+=1\n",
        "print(\"inflation\",inflation)"
      ],
      "metadata": {
        "colab": {
          "base_uri": "https://localhost:8080/"
        },
        "id": "4HWsPoqyAiUn",
        "outputId": "718906ad-1038-4962-c5e9-e79236cf3e6d"
      },
      "execution_count": 52,
      "outputs": [
        {
          "output_type": "stream",
          "name": "stdout",
          "text": [
            "Mein --> mein --> Mein\n",
            "Name --> nam --> Nam\n",
            "ist --> ist --> ist\n",
            "Anna. --> anna. --> Anna.\n",
            "Ich --> ich --> Ich\n",
            "komme --> komm --> komm\n",
            "aus --> aus --> aus\n",
            "Österreich --> österreic --> Österreich\n",
            "und --> und --> und\n",
            "lebe --> leb --> leb\n",
            "seit --> seit --> seit\n",
            "drei --> dre --> drei\n",
            "Jahren --> jahren --> Jahren\n",
            "in --> in --> in\n",
            "Deutschland. --> deutschland. --> Deutschland.\n",
            "Ich --> ich --> Ich\n",
            "bin --> bin --> bin\n",
            "15 --> 15 --> 15\n",
            "Jahre --> jahr --> Jahr\n",
            "alt --> alt --> alt\n",
            "und --> und --> und\n",
            "habe --> hab --> hab\n",
            "zwei --> zwe --> zwei\n",
            "Geschwister: --> geschwister: --> Geschwister:\n",
            "Meine --> mein --> Mein\n",
            "Schwester --> schwester --> Schwester\n",
            "heißt --> heißt --> heißt\n",
            "Klara --> klar --> Klara\n",
            "und --> und --> und\n",
            "ist --> ist --> ist\n",
            "13 --> 13 --> 13\n",
            "Jahre --> jahr --> Jahr\n",
            "alt, --> alt, --> alt,\n",
            "mein --> mein --> mein\n",
            "Bruder --> bruder --> Bruder\n",
            "Michael --> michael --> Michael\n",
            "ist --> ist --> ist\n",
            "18 --> 18 --> 18\n",
            "Jahre --> jahr --> Jahr\n",
            "alt. --> alt. --> alt.\n",
            "Wir --> wir --> Wir\n",
            "wohnen --> wohnen --> wohnen\n",
            "mit --> mit --> mit\n",
            "unseren --> unseren --> unseren\n",
            "Eltern --> eltern --> Eltern\n",
            "in --> in --> in\n",
            "einem --> einem --> einem\n",
            "Haus --> haus --> Hau\n",
            "in --> in --> in\n",
            "der --> der --> der\n",
            "Nähe --> nähe --> Näh\n",
            "von --> von --> von\n",
            "München. --> münchen. --> München.\n",
            "Meine --> mein --> Mein\n",
            "Mutter --> mutter --> Mutter\n",
            "ist --> ist --> ist\n",
            "Köchin, --> köchin, --> Köchin,\n",
            "mein --> mein --> mein\n",
            "Vater --> vater --> Vater\n",
            "arbeitet --> arbeitet --> arbeitet\n",
            "in --> in --> in\n",
            "einer --> einer --> einer\n",
            "Bank. --> bank. --> Bank.\n",
            "inflation 29\n"
          ]
        }
      ]
    }
  ]
}
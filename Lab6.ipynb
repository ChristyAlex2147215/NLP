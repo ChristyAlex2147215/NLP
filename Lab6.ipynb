{
  "nbformat": 4,
  "nbformat_minor": 0,
  "metadata": {
    "colab": {
      "name": "Lab6.ipynb",
      "provenance": [],
      "include_colab_link": true
    },
    "kernelspec": {
      "name": "python3",
      "display_name": "Python 3"
    },
    "language_info": {
      "name": "python"
    }
  },
  "cells": [
    {
      "cell_type": "markdown",
      "metadata": {
        "id": "view-in-github",
        "colab_type": "text"
      },
      "source": [
        "<a href=\"https://colab.research.google.com/github/ChristyAlex2147215/NLP/blob/main/Lab6.ipynb\" target=\"_parent\"><img src=\"https://colab.research.google.com/assets/colab-badge.svg\" alt=\"Open In Colab\"/></a>"
      ]
    },
    {
      "cell_type": "markdown",
      "source": [
        "#Stemming is an NLP process that reduces the inflection in words to their root forms which in turn helps to preprocess text, words, and documents for text normalization."
      ],
      "metadata": {
        "id": "dKEjrAZV2djW"
      }
    },
    {
      "cell_type": "markdown",
      "source": [
        "#Types of Stemming"
      ],
      "metadata": {
        "id": "ztNMWfdn19nj"
      }
    },
    {
      "cell_type": "markdown",
      "source": [
        "Porter Stemmer – PorterStemmer()\n",
        "In 1980, Martin Porter developed the Porter Stemmer or Porter algorithm. Five-word reduction phases are used in the method, each with its own set of mapping rules. Porter Stemmer is the earliest stemmer and is noted for its speed and ease of use.\n",
        "\n",
        "Snowball Stemmer – SnowballStemmer()\n",
        "Martin Porter also created Snowball Stemmer. The algorithm used here is \"English Stemmer\" or \"Porter2 Stemmer,\" and it is more accurate. It is a minor improvement over the original Porter Stemmer in logic and speed.\n",
        "\n",
        "Lancaster Stemmer – LancasterStemmer()\n",
        "Lancaster Stemmer is simple, but it produces over stemming results. Over-stemming results in stems that are not linguistic or have no meaning.\n",
        "\n",
        "Regexp Stemmer – RegexpStemmer()\n",
        "The Regex stemmer uses regular expressions to identify morphological affixes. Substrings that match the regular expressions are removed."
      ],
      "metadata": {
        "id": "1UQjtvOx2Ss5"
      }
    },
    {
      "cell_type": "code",
      "source": [
        "sample_word=\"For those spending time at home, looking for a cozy adventure or bedtime story for kids, we offer this imaginative rhyming picture book, read by the author, Daniel Errico. Follow the Marmabill on her quest through the rainforest, where she meets fantastical creatures like wugs, tankadiggies, and flying fluthers. As her journey takes her from treetops to glowing underground caves, the Marmabill finds out for herself the true meaning of home. Remember, our stories for kids are here for you to read at any time.\""
      ],
      "metadata": {
        "id": "VdqWXPNY3972"
      },
      "execution_count": null,
      "outputs": []
    },
    {
      "cell_type": "code",
      "execution_count": null,
      "metadata": {
        "id": "TQr_zY_p1v0s"
      },
      "outputs": [],
      "source": [
        "from nltk.stem.porter import PorterStemmer\n",
        "stemmer = PorterStemmer()\n",
        "stemmer.stem(\"computer\")"
      ]
    },
    {
      "cell_type": "code",
      "source": [
        "from nltk.stem.snowball import SnowballStemmer\n",
        "print(SnowballStemmer.languages)\n",
        "stemmer_2 = SnowballStemmer(language=\"english\")"
      ],
      "metadata": {
        "id": "OrCfdnUP2tvs"
      },
      "execution_count": null,
      "outputs": []
    },
    {
      "cell_type": "code",
      "source": [
        "from nltk.stem import LancasterStemmer\n",
        "\n",
        "lancaster = LancasterStemmer()\n",
        "words = ['eating','eats','eaten','puts','putting']\n",
        "\n",
        "for word in words:\n",
        "    print(word,\"--->\",lancaster.stem(word))"
      ],
      "metadata": {
        "id": "mm8iz31M2uRe"
      },
      "execution_count": null,
      "outputs": []
    },
    {
      "cell_type": "markdown",
      "source": [
        "#comparisons"
      ],
      "metadata": {
        "id": "-6YxXk5h32Du"
      }
    },
    {
      "cell_type": "code",
      "source": [
        "from nltk.stem import PorterStemmer, SnowballStemmer, LancasterStemmer, RegexpStemmer\n",
        "porter = PorterStemmer()\n",
        "lancaster = LancasterStemmer()\n",
        "snowball = SnowballStemmer(language='english')\n",
        "regexp = RegexpStemmer('ing$|s$|e$|able$', min=4)"
      ],
      "metadata": {
        "id": "IUE91lc_2urc"
      },
      "execution_count": null,
      "outputs": []
    },
    {
      "cell_type": "code",
      "source": [
        ""
      ],
      "metadata": {
        "id": "7tIDDHBF2vAy"
      },
      "execution_count": null,
      "outputs": []
    },
    {
      "cell_type": "code",
      "source": [
        ""
      ],
      "metadata": {
        "id": "I4XDc6762vWn"
      },
      "execution_count": null,
      "outputs": []
    },
    {
      "cell_type": "markdown",
      "source": [
        "#LancasterStemmer --English"
      ],
      "metadata": {
        "id": "hy03Znno5NmV"
      }
    },
    {
      "cell_type": "code",
      "source": [
        "#english sample words\n",
        "sample_word"
      ],
      "metadata": {
        "colab": {
          "base_uri": "https://localhost:8080/",
          "height": 88
        },
        "id": "dsozkRzV5jBJ",
        "outputId": "57eae3c1-fc52-4b7f-a10a-8716a6c0031c"
      },
      "execution_count": null,
      "outputs": [
        {
          "output_type": "execute_result",
          "data": {
            "text/plain": [
              "'For those spending time at home, looking for a cozy adventure or bedtime story for kids, we offer this imaginative rhyming picture book, read by the author, Daniel Errico. Follow the Marmabill on her quest through the rainforest, where she meets fantastical creatures like wugs, tankadiggies, and flying fluthers. As her journey takes her from treetops to glowing underground caves, the Marmabill finds out for herself the true meaning of home. Remember, our stories for kids are here for you to read at any time.'"
            ],
            "application/vnd.google.colaboratory.intrinsic+json": {
              "type": "string"
            }
          },
          "metadata": {},
          "execution_count": 2
        }
      ]
    },
    {
      "cell_type": "code",
      "source": [
        "from nltk.stem import LancasterStemmer\n",
        "from string import punctuation \n",
        "lancaster = LancasterStemmer()\n",
        "sample=sample_word.split()\n",
        "words = [i for i in sample]\n",
        "final=[i for i in words if i not in punctuation]\n",
        "print(final)\n",
        "\n",
        "for finals in final:\n",
        "    print(finals,\"--->\",lancaster.stem(finals))"
      ],
      "metadata": {
        "colab": {
          "base_uri": "https://localhost:8080/"
        },
        "id": "wCJPCWxP5flM",
        "outputId": "b0f249ca-7d54-4235-dd12-a6b0b520d329"
      },
      "execution_count": null,
      "outputs": [
        {
          "output_type": "stream",
          "name": "stdout",
          "text": [
            "['For', 'those', 'spending', 'time', 'at', 'home,', 'looking', 'for', 'a', 'cozy', 'adventure', 'or', 'bedtime', 'story', 'for', 'kids,', 'we', 'offer', 'this', 'imaginative', 'rhyming', 'picture', 'book,', 'read', 'by', 'the', 'author,', 'Daniel', 'Errico.', 'Follow', 'the', 'Marmabill', 'on', 'her', 'quest', 'through', 'the', 'rainforest,', 'where', 'she', 'meets', 'fantastical', 'creatures', 'like', 'wugs,', 'tankadiggies,', 'and', 'flying', 'fluthers.', 'As', 'her', 'journey', 'takes', 'her', 'from', 'treetops', 'to', 'glowing', 'underground', 'caves,', 'the', 'Marmabill', 'finds', 'out', 'for', 'herself', 'the', 'true', 'meaning', 'of', 'home.', 'Remember,', 'our', 'stories', 'for', 'kids', 'are', 'here', 'for', 'you', 'to', 'read', 'at', 'any', 'time.']\n",
            "For ---> for\n",
            "those ---> thos\n",
            "spending ---> spend\n",
            "time ---> tim\n",
            "at ---> at\n",
            "home, ---> home,\n",
            "looking ---> look\n",
            "for ---> for\n",
            "a ---> a\n",
            "cozy ---> cozy\n",
            "adventure ---> adv\n",
            "or ---> or\n",
            "bedtime ---> bedtim\n",
            "story ---> story\n",
            "for ---> for\n",
            "kids, ---> kids,\n",
            "we ---> we\n",
            "offer ---> off\n",
            "this ---> thi\n",
            "imaginative ---> imagin\n",
            "rhyming ---> rhym\n",
            "picture ---> pict\n",
            "book, ---> book,\n",
            "read ---> read\n",
            "by ---> by\n",
            "the ---> the\n",
            "author, ---> author,\n",
            "Daniel ---> daniel\n",
            "Errico. ---> errico.\n",
            "Follow ---> follow\n",
            "the ---> the\n",
            "Marmabill ---> marmabil\n",
            "on ---> on\n",
            "her ---> her\n",
            "quest ---> quest\n",
            "through ---> through\n",
            "the ---> the\n",
            "rainforest, ---> rainforest,\n",
            "where ---> wher\n",
            "she ---> she\n",
            "meets ---> meet\n",
            "fantastical ---> fantast\n",
            "creatures ---> cre\n",
            "like ---> lik\n",
            "wugs, ---> wugs,\n",
            "tankadiggies, ---> tankadiggies,\n",
            "and ---> and\n",
            "flying ---> fly\n",
            "fluthers. ---> fluthers.\n",
            "As ---> as\n",
            "her ---> her\n",
            "journey ---> journey\n",
            "takes ---> tak\n",
            "her ---> her\n",
            "from ---> from\n",
            "treetops ---> treetop\n",
            "to ---> to\n",
            "glowing ---> glow\n",
            "underground ---> underground\n",
            "caves, ---> caves,\n",
            "the ---> the\n",
            "Marmabill ---> marmabil\n",
            "finds ---> find\n",
            "out ---> out\n",
            "for ---> for\n",
            "herself ---> herself\n",
            "the ---> the\n",
            "true ---> tru\n",
            "meaning ---> mean\n",
            "of ---> of\n",
            "home. ---> home.\n",
            "Remember, ---> remember,\n",
            "our ---> our\n",
            "stories ---> story\n",
            "for ---> for\n",
            "kids ---> kid\n",
            "are ---> ar\n",
            "here ---> her\n",
            "for ---> for\n",
            "you ---> you\n",
            "to ---> to\n",
            "read ---> read\n",
            "at ---> at\n",
            "any ---> any\n",
            "time. ---> time.\n"
          ]
        }
      ]
    },
    {
      "cell_type": "markdown",
      "source": [
        "#"
      ],
      "metadata": {
        "id": "wM_JEVkb8vMd"
      }
    },
    {
      "cell_type": "markdown",
      "source": [
        "#snowball stemmer-Spanish"
      ],
      "metadata": {
        "id": "9frrgbmr5eEV"
      }
    },
    {
      "cell_type": "code",
      "source": [
        "sample_word=\"\"\" Es el 23 de mayo. Hoy es el día. Me gusta mucho esta fecha. Son las 8:00 am y todavía estoy en la cama.\n",
        "Usualmente empiezo el trabajo a las 8:30. Pienso que voy a llegar tarde. Pero hoy, no importa.\"\"\""
      ],
      "metadata": {
        "id": "ezD9PMEI9laz"
      },
      "execution_count": null,
      "outputs": []
    },
    {
      "cell_type": "code",
      "source": [
        "import snowballstemmer\n",
        "\n",
        "stemmer = snowballstemmer.stemmer('spanish');\n",
        "print(stemmer.stemWords(sample_word.split()));"
      ],
      "metadata": {
        "colab": {
          "base_uri": "https://localhost:8080/"
        },
        "id": "sQnf1ppl9H0Z",
        "outputId": "f6cc3951-78cb-4ed6-f391-2e3c7a1c4ae1"
      },
      "execution_count": null,
      "outputs": [
        {
          "output_type": "stream",
          "name": "stdout",
          "text": [
            "['Es', 'el', '23', 'de', 'mayo.', 'Hoy', 'es', 'el', 'dia.', 'Me', 'gust', 'much', 'esta', 'fecha.', 'Son', 'las', '8:00', 'am', 'y', 'todav', 'estoy', 'en', 'la', 'cama.', 'Usualment', 'empiez', 'el', 'trabaj', 'a', 'las', '8:30.', 'Piens', 'que', 'voy', 'a', 'lleg', 'tarde.', 'Per', 'hoy,', 'no', 'importa.']\n"
          ]
        }
      ]
    },
    {
      "cell_type": "code",
      "source": [
        "sample_word"
      ],
      "metadata": {
        "id": "LE1jAr40CrzA"
      },
      "execution_count": null,
      "outputs": []
    },
    {
      "cell_type": "markdown",
      "source": [
        "#snowballstemmer -German"
      ],
      "metadata": {
        "id": "7uVMewQ69aEU"
      }
    },
    {
      "cell_type": "code",
      "source": [
        "sample_word=\"Mein Name ist Anna. Ich komme aus Österreich und lebe seit drei Jahren in Deutschland. Ich bin 15 Jahre alt und habe zwei Geschwister: Meine Schwester heißt Klara und ist 13 Jahre alt, mein Bruder Michael ist 18 Jahre alt. Wir wohnen mit unseren Eltern in einem Haus in der Nähe von München. Meine Mutter ist Köchin, mein Vater arbeitet in einer Bank.\""
      ],
      "metadata": {
        "id": "BY0AFIgYAyoE"
      },
      "execution_count": null,
      "outputs": []
    },
    {
      "cell_type": "code",
      "source": [
        "import snowballstemmer\n",
        "\n",
        "stemmer = snowballstemmer.stemmer('german');\n",
        "print(stemmer.stemWords(sample_word.split()));"
      ],
      "metadata": {
        "colab": {
          "base_uri": "https://localhost:8080/"
        },
        "id": "h_xxRO7A-tMC",
        "outputId": "4f4f5ac9-e7c0-4e5e-bf00-6846d35bf855"
      },
      "execution_count": null,
      "outputs": [
        {
          "output_type": "stream",
          "name": "stdout",
          "text": [
            "['Mein', 'Nam', 'ist', 'Anna.', 'Ich', 'komm', 'aus', 'Österreich', 'und', 'leb', 'seit', 'drei', 'Jahr', 'in', 'Deutschland.', 'Ich', 'bin', '15', 'Jahr', 'alt', 'und', 'hab', 'zwei', 'Geschwister:', 'Mein', 'Schwest', 'heisst', 'Klara', 'und', 'ist', '13', 'Jahr', 'alt,', 'mein', 'Brud', 'Michael', 'ist', '18', 'Jahr', 'alt.', 'Wir', 'wohn', 'mit', 'uns', 'Eltern', 'in', 'ein', 'Haus', 'in', 'der', 'Nah', 'von', 'Munchen.', 'Mein', 'Mutt', 'ist', 'Kochin,', 'mein', 'Vat', 'arbeitet', 'in', 'ein', 'Bank.']\n"
          ]
        }
      ]
    },
    {
      "cell_type": "markdown",
      "source": [
        ""
      ],
      "metadata": {
        "id": "Nkt2CcxU91ws"
      }
    },
    {
      "cell_type": "markdown",
      "source": [
        "#snowballstemmer - french"
      ],
      "metadata": {
        "id": "C1iqNHj79VBB"
      }
    },
    {
      "cell_type": "code",
      "source": [
        "sample_word=\"Je m'appelle Camille et quand j'étais enfant, j'avais des rêves plein la tête. Je voulais être professeur et enseigner les mathématiques. Puis, je voulais devenir docteur pour soigner les malades. Pour moi, les médecins et les infirmières sont des héros sans costume.\""
      ],
      "metadata": {
        "id": "Olr7rUKZBxxf"
      },
      "execution_count": null,
      "outputs": []
    },
    {
      "cell_type": "code",
      "source": [
        "import snowballstemmer\n",
        "\n",
        "stemmer = snowballstemmer.stemmer('french');\n",
        "print(stemmer.stemWords(sample_word.split()));"
      ],
      "metadata": {
        "colab": {
          "base_uri": "https://localhost:8080/"
        },
        "id": "Zm7bGEGDBy8Y",
        "outputId": "5ee33977-2bcc-4a39-89af-7aa635f1b985"
      },
      "execution_count": null,
      "outputs": [
        {
          "output_type": "stream",
          "name": "stdout",
          "text": [
            "['Je', \"m'appel\", 'Camill', 'et', 'quand', \"j'et\", 'enfant,', \"j'av\", 'de', 'rêv', 'plein', 'la', 'tête.', 'Je', 'voul', 'être', 'professeur', 'et', 'enseign', 'le', 'mathématiques.', 'Puis,', 'je', 'voul', 'deven', 'docteur', 'pour', 'soign', 'le', 'malades.', 'Pour', 'moi,', 'le', 'médecin', 'et', 'le', 'infirmi', 'sont', 'de', 'héros', 'san', 'costume.']\n"
          ]
        }
      ]
    },
    {
      "cell_type": "markdown",
      "source": [
        "#snowballstemmer -italian"
      ],
      "metadata": {
        "id": "Pp-0sAHA9b5O"
      }
    },
    {
      "cell_type": "code",
      "source": [
        "sample_word=\"Mi chiamo Francesca e lavoro come segretaria nella scuola elementare della mia città. Ogni mattina, mi sveglio alle 7 e preparo la colazione per tutta la famiglia.\""
      ],
      "metadata": {
        "id": "UoOLMLcVB2OY"
      },
      "execution_count": null,
      "outputs": []
    },
    {
      "cell_type": "code",
      "source": [
        "import snowballstemmer\n",
        "\n",
        "stemmer = snowballstemmer.stemmer('italian');\n",
        "print(stemmer.stemWords(sample_word.split()));"
      ],
      "metadata": {
        "colab": {
          "base_uri": "https://localhost:8080/"
        },
        "id": "4HWsPoqyAiUn",
        "outputId": "709afeaa-b619-4d32-ac4b-45caac5f70c7"
      },
      "execution_count": null,
      "outputs": [
        {
          "output_type": "stream",
          "name": "stdout",
          "text": [
            "['Mi', 'chiam', 'Francesc', 'e', 'lavor', 'com', 'segretar', 'nell', 'scuol', 'element', 'dell', 'mia', 'città.', 'Ogni', 'mattina,', 'mi', 'svegl', 'alle', '7', 'e', 'prepar', 'la', 'colazion', 'per', 'tutt', 'la', 'famiglia.']\n"
          ]
        }
      ]
    }
  ]
}